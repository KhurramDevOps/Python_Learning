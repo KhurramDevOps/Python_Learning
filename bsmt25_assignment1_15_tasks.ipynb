{
  "nbformat": 4,
  "nbformat_minor": 0,
  "metadata": {
    "colab": {
      "provenance": [],
      "authorship_tag": "ABX9TyM+gVy4t6yX72PLQSTjAKfW",
      "include_colab_link": true
    },
    "kernelspec": {
      "name": "python3",
      "display_name": "Python 3"
    },
    "language_info": {
      "name": "python"
    }
  },
  "cells": [
    {
      "cell_type": "markdown",
      "metadata": {
        "id": "view-in-github",
        "colab_type": "text"
      },
      "source": [
        "<a href=\"https://colab.research.google.com/github/KhurramDevOps/Python_Learning/blob/master/bsmt25_assignment1_15_tasks.ipynb\" target=\"_parent\"><img src=\"https://colab.research.google.com/assets/colab-badge.svg\" alt=\"Open In Colab\"/></a>"
      ]
    },
    {
      "cell_type": "markdown",
      "source": [
        "# **Muhammad Khurram**"
      ],
      "metadata": {
        "id": "G0kIsQOdQIwv"
      }
    },
    {
      "cell_type": "markdown",
      "source": [
        "# **bsmt25039**"
      ],
      "metadata": {
        "id": "dko7wfgFQSm5"
      }
    },
    {
      "cell_type": "markdown",
      "source": [
        "## **Task 1**"
      ],
      "metadata": {
        "id": "iQK0bLogQYGb"
      }
    },
    {
      "cell_type": "code",
      "execution_count": 7,
      "metadata": {
        "colab": {
          "base_uri": "https://localhost:8080/"
        },
        "id": "raEJ4O0cPRyn",
        "outputId": "8f4c75d0-80b4-4e41-f945-6c35d1995c90"
      },
      "outputs": [
        {
          "output_type": "stream",
          "name": "stdout",
          "text": [
            "Enter first number: 48\n",
            "\n",
            "Enter second number: 5\n",
            "\n",
            "The result of floor division of 48 and 5 is : 9\n",
            "\n",
            "The remainder of 48 divided by 5 is : 3\n",
            "\n",
            "48 = 5 × 9 + 3\n",
            "48 = 48\n",
            "\n",
            "True\n"
          ]
        }
      ],
      "source": [
        "num_1 = int(input(\"Enter first number: \"))\n",
        "num_2 = int(input(\"\\nEnter second number: \"))\n",
        "\n",
        "floor_div = num_1 // num_2\n",
        "remainder = num_1 % num_2\n",
        "\n",
        "print(f\"\\nThe result of floor division of {num_1} and {num_2} is : {floor_div}\")\n",
        "\n",
        "print(f\"\\nThe remainder of {num_1} divided by {num_2} is : {remainder}\")\n",
        "\n",
        "verify = num_1 == (num_2 * floor_div) + remainder\n",
        "\n",
        "print(f\"\\n{num_1} = {num_2} × {floor_div} + {remainder}\")\n",
        "\n",
        "print(f\"{num_1} = {num_2 * floor_div + remainder}\")\n",
        "\n",
        "print(f\"\\n{verify}\")"
      ]
    },
    {
      "cell_type": "markdown",
      "source": [
        "# **Task 2**"
      ],
      "metadata": {
        "id": "juOq92pVVXI9"
      }
    },
    {
      "cell_type": "code",
      "source": [
        "\n",
        "\n",
        "three_digit_num = int(input(\"Enter a 3-digit number: \"))\n",
        "\n",
        "unit = three_digit_num % 10\n",
        "after_removing_units =  three_digit_num // 10\n",
        "tens = after_removing_units % 10\n",
        "hundreds = after_removing_units // 10\n",
        "\n",
        "print(f\"\\nThe sum of {three_digit_num} is : {unit + tens + hundreds}\")\n",
        "\n"
      ],
      "metadata": {
        "colab": {
          "base_uri": "https://localhost:8080/"
        },
        "id": "ZdhhpyYfVZPe",
        "outputId": "d2ec4fff-c1dd-43d6-b62e-9ec4c519b0b3"
      },
      "execution_count": 8,
      "outputs": [
        {
          "output_type": "stream",
          "name": "stdout",
          "text": [
            "Enter a 3-digit number: 374\n",
            "\n",
            "The sum of 374 is : 14\n"
          ]
        }
      ]
    },
    {
      "cell_type": "markdown",
      "source": [
        "# **Task 3**"
      ],
      "metadata": {
        "id": "sPz4zK0WYrxi"
      }
    },
    {
      "cell_type": "code",
      "source": [
        "a = int(input(\"enter a number : \"))\n",
        "print(f\"{a%3 ==0 and a%5 != 0}\")\n"
      ],
      "metadata": {
        "colab": {
          "base_uri": "https://localhost:8080/"
        },
        "id": "gAIW5CrsYudi",
        "outputId": "6dac5222-3ed8-466e-df1e-f26aed0e1d11"
      },
      "execution_count": 4,
      "outputs": [
        {
          "output_type": "stream",
          "name": "stdout",
          "text": [
            "enter a number : 33\n",
            "True\n"
          ]
        }
      ]
    },
    {
      "cell_type": "markdown",
      "source": [
        "# **Task 4**"
      ],
      "metadata": {
        "id": "n_oQG5-LoNUT"
      }
    },
    {
      "cell_type": "code",
      "source": [
        "a = True\n",
        "b=False\n",
        "check = a and b or a or b or not a or not b\n",
        "print(check)"
      ],
      "metadata": {
        "colab": {
          "base_uri": "https://localhost:8080/"
        },
        "id": "4EfSTnr5oQDi",
        "outputId": "cca0e5a2-56a2-44e9-c355-a23737f311ac"
      },
      "execution_count": 9,
      "outputs": [
        {
          "output_type": "stream",
          "name": "stdout",
          "text": [
            "True\n"
          ]
        }
      ]
    },
    {
      "cell_type": "markdown",
      "source": [
        "# **Task 5**"
      ],
      "metadata": {
        "id": "_hgXavmapHFG"
      }
    },
    {
      "cell_type": "code",
      "source": [
        "\n",
        "a = float(input(\"Enter first number: \"))\n",
        "b = float(input(\"Enter second number: \"))\n",
        "c = float(input(\"Enter third number: \"))\n",
        "\n",
        "if a >= b:\n",
        "    if a >= c:\n",
        "        print(a, \"is the largest\")\n",
        "    else:\n",
        "        print(c, \"is the largest\")\n",
        "else:\n",
        "    if b >= c:\n",
        "        print(b, \"is the largest\")\n",
        "    else:\n",
        "        print(c, \"is the largest\")\n",
        "\n",
        "# larger_number = max(var_1, var_2, var_3)\n",
        "# print(f\"{larger_number} is the largest number\")\n",
        ""
      ],
      "metadata": {
        "colab": {
          "base_uri": "https://localhost:8080/"
        },
        "id": "HLcd-AUCpI0k",
        "outputId": "5b96d173-58d5-44e0-d257-be1c4e0e5eaa"
      },
      "execution_count": 20,
      "outputs": [
        {
          "output_type": "stream",
          "name": "stdout",
          "text": [
            "Enter first number: 89\n",
            "Enter second number: 9888\n",
            "Enter third number: 2333333\n",
            "2333333.0 is the largest\n"
          ]
        }
      ]
    },
    {
      "cell_type": "markdown",
      "source": [
        "# **Task 6**"
      ],
      "metadata": {
        "id": "rghQaYpktVTS"
      }
    },
    {
      "cell_type": "code",
      "source": [
        "year = int(input(\"Enter the year : \"))\n",
        "\n",
        "if year % 4 == 0 and year % 100 != 0 or year % 400 == 0:\n",
        "    print(f\"{year} is a leap year\")\n",
        "else:\n",
        "    print(f\"{year} is not a leap year\")"
      ],
      "metadata": {
        "colab": {
          "base_uri": "https://localhost:8080/"
        },
        "id": "28GQYni6qNu6",
        "outputId": "8c8796f1-52dc-42c1-e2f3-20e06a033514"
      },
      "execution_count": 24,
      "outputs": [
        {
          "output_type": "stream",
          "name": "stdout",
          "text": [
            "Enter the year : 2004\n",
            "2004 is a leap year\n"
          ]
        }
      ]
    },
    {
      "cell_type": "markdown",
      "source": [
        "# **Task 7**"
      ],
      "metadata": {
        "id": "o_6mTaQzvNVG"
      }
    },
    {
      "cell_type": "code",
      "source": [
        "number = float(input(\"Enter a number: \"))\n",
        "\n",
        "if number % 2==0 and number %3==0 :\n",
        "  print(f\"{number} is divisible by 2 and 3\")\n",
        "elif number % 2 == 0:\n",
        "  print(f\"{number} is divisible by 2\")\n",
        "elif number % 3 == 0:\n",
        "  print(f\"{number} is divisible by 3\")\n",
        "else:\n",
        "  print(f\"{number} is not divisible by 2 or 3\")"
      ],
      "metadata": {
        "colab": {
          "base_uri": "https://localhost:8080/"
        },
        "id": "LbfTeQMjvQGU",
        "outputId": "3356208b-75f4-4fe0-ca01-d5e84e6af8cc"
      },
      "execution_count": 30,
      "outputs": [
        {
          "output_type": "stream",
          "name": "stdout",
          "text": [
            "Enter a number: 39\n",
            "39.0 is divisible by 3\n"
          ]
        }
      ]
    },
    {
      "cell_type": "markdown",
      "source": [
        "# **Task 8**"
      ],
      "metadata": {
        "id": "tsMfK2HKwh2K"
      }
    },
    {
      "cell_type": "code",
      "source": [
        "income = float(input(\"Enter your income: \"))\n",
        "\n",
        "if income <= 5000:\n",
        "  print(f\"You have to pay NO TAX on your {income}\")\n",
        "elif income >=5001 and income <=10000:\n",
        "  print(f\"you have to pay 10% TAX on your {income} INCOME which is {income*0.1}\")\n",
        "elif income >=10001 and income <=20000:\n",
        "  print(f\"you have to pay 20% TAX on your {income} INCOME which is {income*0.2}\")\n",
        "else:\n",
        "  print(f\"you have to pay 30% TAX on your {income} INCOME which is {income*0.3}\")"
      ],
      "metadata": {
        "colab": {
          "base_uri": "https://localhost:8080/"
        },
        "id": "CriErJ3lwj8c",
        "outputId": "e3ec9944-a949-4a0d-cbe7-6a6a49dc3a4b"
      },
      "execution_count": 1,
      "outputs": [
        {
          "output_type": "stream",
          "name": "stdout",
          "text": [
            "Enter your income: 300000\n",
            "you have to pay 30% TAX on your 300000.0 INCOME which is 90000.0\n"
          ]
        }
      ]
    },
    {
      "cell_type": "markdown",
      "source": [
        "# **Task 9**"
      ],
      "metadata": {
        "id": "-iYhdZALy5oE"
      }
    },
    {
      "cell_type": "code",
      "source": [
        "month_num = int(input(\"Enter the month number : \"))\n",
        "\n",
        "# Q9. Write a program that uses a match statement to take a month number (1–12) and\n",
        "# print the number of days in that month (ignore leap years).\n",
        "\n",
        "match month_num:\n",
        "    case 1:\n",
        "        print(\"January has 31 days\")\n",
        "    case 2:\n",
        "        print(\"February has 28 days\")\n",
        "    case 3:\n",
        "        print(\"March has 31 days\")\n",
        "    case 4:\n",
        "        print(\"April has 30 days\")\n",
        "    case 5:\n",
        "        print(\"May has 31 days\")\n",
        "    case 6:\n",
        "        print(\"June has 30 days\")\n",
        "    case 7:\n",
        "      print(\"July has 31 days\")\n",
        "    case 8:\n",
        "      print(\"August has 31 days\")\n",
        "    case 9:\n",
        "      print(\"September has 30 days\")\n",
        "    case 10:\n",
        "      print(\"October has 31 days\")\n",
        "    case 11:\n",
        "      print(\"November has 30 days\")\n",
        "    case 12:\n",
        "      print(\"December has 31 days\")\n",
        "    case _:\n",
        "      print(\"Invalid month number\")"
      ],
      "metadata": {
        "colab": {
          "base_uri": "https://localhost:8080/"
        },
        "id": "Qgi6v7Ecy-Jp",
        "outputId": "a36d0dcf-dffd-4ed6-e160-08f6a109a0a5"
      },
      "execution_count": 6,
      "outputs": [
        {
          "output_type": "stream",
          "name": "stdout",
          "text": [
            "Enter the month number : 12\n",
            "December has 31 days\n"
          ]
        }
      ]
    },
    {
      "cell_type": "markdown",
      "source": [
        "# **Task 10**"
      ],
      "metadata": {
        "id": "i_D0sSjq0Ctt"
      }
    },
    {
      "cell_type": "code",
      "source": [
        "var_1 = int(input(\"Enter first number: \"))\n",
        "var_2 = int(input(\"\\nEnter second number: \"))\n",
        "\n",
        "\n",
        "operator = input(\"\\nEnter operator: \")\n",
        "match operator:\n",
        "  case '+':\n",
        "    print(f\"\\nThe sum of {var_1} + {var_2} is {var_1 + var_2}\")\n",
        "  case '-':\n",
        "    print(f\"\\nThe difference of {var_1} - {var_2} is {var_1 - var_2}\")\n",
        "  case '*':\n",
        "    print(f\"\\nThe product of {var_1} * {var_2} is {var_1 * var_2}\")\n",
        "  case '/':\n",
        "    print(f\"\\nThe division of {var_1} / {var_2} is {var_1 / var_2}\")\n",
        "  case _:\n",
        "    print(\"\\nInvalid operator\")"
      ],
      "metadata": {
        "colab": {
          "base_uri": "https://localhost:8080/"
        },
        "id": "fxoF64060FSg",
        "outputId": "4559dabe-0016-4d51-ab41-4afcc1d51d4e"
      },
      "execution_count": 11,
      "outputs": [
        {
          "output_type": "stream",
          "name": "stdout",
          "text": [
            "Enter first number: 3\n",
            "\n",
            "Enter second number: 9\n",
            "\n",
            "Enter operator: *\n",
            "\n",
            "The product of 3 * 9 is 27\n"
          ]
        }
      ]
    },
    {
      "cell_type": "markdown",
      "source": [
        "# **Task 11**"
      ],
      "metadata": {
        "id": "xBmYC0Vq15it"
      }
    },
    {
      "cell_type": "code",
      "source": [
        "\n",
        "\n",
        "six_digit_num = int(input(\"Enter a 6-digit number: \"))\n",
        "\n",
        "sixth_num = six_digit_num % 10\n",
        "print(f\"\\nThe sixth number is {sixth_num}\")\n",
        "after_removing_units =  six_digit_num // 10\n",
        "print(f\"After removing units {after_removing_units}\")\n",
        "\n",
        "fifth_num = after_removing_units % 10\n",
        "print(f\"\\nThe fifth number is {fifth_num}\")\n",
        "after_removing_units = after_removing_units // 10\n",
        "print(f\"After removing units {after_removing_units}\")\n",
        "\n",
        "fourth_num = after_removing_units % 10\n",
        "print(f\"\\nThe fourth number is {fourth_num}\")\n",
        "after_removing_units = after_removing_units // 10\n",
        "print(f\"After removing units {after_removing_units}\")\n",
        "\n",
        "third_num = after_removing_units % 10\n",
        "print(f\"\\nThe third number is {third_num}\")\n",
        "after_removing_units = after_removing_units // 10\n",
        "print(f\"After removing units {after_removing_units}\")\n",
        "\n",
        "second_num = after_removing_units % 10\n",
        "print(f\"\\nThe second number is {second_num}\")\n",
        "after_removing_units = after_removing_units // 10\n",
        "print(f\"After removing units {after_removing_units}\")\n",
        "\n",
        "first_num = after_removing_units\n",
        "print(f\"\\nThe first number is {first_num}\")\n",
        "\n",
        "print(f\"\\nThe sum of {six_digit_num} is : {first_num + second_num + third_num + fourth_num + fifth_num + sixth_num}\")"
      ],
      "metadata": {
        "colab": {
          "base_uri": "https://localhost:8080/"
        },
        "id": "84ghwUDO18vt",
        "outputId": "4e55e45f-10a1-470e-877d-0dd72f4daf9f"
      },
      "execution_count": 19,
      "outputs": [
        {
          "output_type": "stream",
          "name": "stdout",
          "text": [
            "Enter a 6-digit number: 100000\n",
            "\n",
            "The sixth number is 0\n",
            "After removing units 10000\n",
            "\n",
            "The fifth number is 0\n",
            "After removing units 1000\n",
            "\n",
            "The fourth number is 0\n",
            "After removing units 100\n",
            "\n",
            "The third number is 0\n",
            "After removing units 10\n",
            "\n",
            "The second number is 0\n",
            "After removing units 1\n",
            "\n",
            "The first number is 1\n",
            "\n",
            "The sum of 100000 is : 1\n"
          ]
        }
      ]
    },
    {
      "cell_type": "markdown",
      "source": [
        "# **Task 12**"
      ],
      "metadata": {
        "id": "u6FIw9k45y1w"
      }
    },
    {
      "cell_type": "code",
      "source": [
        "# rock paper scissors game\n",
        "rock_art = \"\"\"\n",
        "    _______\n",
        "---'   ____)\n",
        "      (_____)\n",
        "      (_____)\n",
        "      (____)\n",
        "---.__(___)\n",
        "\"\"\"\n",
        "\n",
        "paper_art = \"\"\"\n",
        "    _______\n",
        "---'   ____)____\n",
        "          ______)\n",
        "          _______)\n",
        "         _______)\n",
        "---.__________)\n",
        "\"\"\"\n",
        "\n",
        "scissors_art = \"\"\"\n",
        "    _______\n",
        "---'   ____)____\n",
        "          ______)\n",
        "       __________)\n",
        "      (____)\n",
        "---.__(___)\n",
        "\"\"\"\n",
        "\n",
        "player_1 = input(\"Enter rock paper or scissor : \").lower()\n",
        "if player_1 == \"rock\":\n",
        "    print(rock_art)\n",
        "elif player_1 == \"paper\":\n",
        "    print(paper_art)\n",
        "elif player_1 == \"scissor\":\n",
        "    print(scissors_art)\n",
        "\n",
        "player_2 = input(\"Enter rock paper or scissor : \").lower()\n",
        "if player_2 == \"rock\":\n",
        "    print(rock_art)\n",
        "elif player_2 == \"paper\":\n",
        "    print(paper_art)\n",
        "elif player_2 == \"scissor\":\n",
        "    print(scissors_art)\n",
        "\n",
        "if player_1 == \"rock\" and player_2 == \"paper\":\n",
        "  print(\"player_2 wins : paper dominates (wraps) rock\")\n",
        "elif player_1 == \"rock\" and player_2 == \"scissor\":\n",
        "  print(\"player_1 wins : rock dominates (breaks) scissors\")\n",
        "elif player_1 ==\" paper\" and player_2 == \"rock\":\n",
        "  print(\"player_1 wins : paper dominates (wraps) rock\")\n",
        "elif player_1 == \"paper\" and player_2 == \"scissor\":\n",
        "  print(\"player_2 wins : scissors dominates (cuts) paper\")\n",
        "elif player_1 == \"scissor\" and player_2 == \"rock\":\n",
        "  print(\"player_2 wins: rock dominates (breaks) scissors\")\n",
        "elif player_1 == \"scissor\" and player_2 == \"paper\":\n",
        "  print(\"player_1 wins: scissors dominates (cuts) paper\")\n",
        "elif player_1 == player_2:\n",
        "  print(\"It's a tie!\")\n",
        "else:\n",
        "  print(\"Invalid choice! Please choose rock, paper, or scissors.\")\n"
      ],
      "metadata": {
        "colab": {
          "base_uri": "https://localhost:8080/"
        },
        "id": "sIS-TSld2txy",
        "outputId": "2b2a1b84-eb23-40a6-cb1e-d1ca6fc9d0b6"
      },
      "execution_count": 26,
      "outputs": [
        {
          "output_type": "stream",
          "name": "stdout",
          "text": [
            "Enter rock paper or scissor : scissor\n",
            "\n",
            "    _______\n",
            "---'   ____)____\n",
            "          ______)\n",
            "       __________)\n",
            "      (____)\n",
            "---.__(___)\n",
            "\n",
            "Enter rock paper or scissor : rock\n",
            "\n",
            "    _______\n",
            "---'   ____)\n",
            "      (_____)\n",
            "      (_____)\n",
            "      (____)\n",
            "---.__(___)\n",
            "\n",
            "player_2 wins: rock dominates (breaks) scissors\n"
          ]
        }
      ]
    },
    {
      "cell_type": "markdown",
      "source": [
        "# **Task 13**"
      ],
      "metadata": {
        "id": "psC8hFGS_Zov"
      }
    },
    {
      "cell_type": "code",
      "source": [
        "num_1 = int(input(\"Enter first number: \"))\n",
        "num_2 = int(input(\"\\nEnter second number: \"))\n",
        "\n",
        "multiple = num_1 % num_2 == 0 or num_2 % num_1 == 0\n",
        "print(f\"\\nThe numbers are Multiple of each other : {multiple}\")"
      ],
      "metadata": {
        "colab": {
          "base_uri": "https://localhost:8080/"
        },
        "id": "v7LuQvsl_eYm",
        "outputId": "efb29ba4-8b71-4659-c108-c8f9aabf000c"
      },
      "execution_count": 37,
      "outputs": [
        {
          "output_type": "stream",
          "name": "stdout",
          "text": [
            "Enter first number: 3\n",
            "\n",
            "Enter second number: 9\n",
            "\n",
            "The numbers are Multiple of each other : True\n"
          ]
        }
      ]
    },
    {
      "cell_type": "markdown",
      "source": [
        "# **Task 14**"
      ],
      "metadata": {
        "id": "LRUErvG7BYNT"
      }
    },
    {
      "cell_type": "code",
      "source": [
        "num1 = float(input(\"Enter a first Number : \"))\n",
        "\n",
        "\n",
        "print(\"\"\"\\nHere below are the available operations\n",
        "1. Addition +\n",
        "2. Subtraction -\n",
        "3. Multiplication *\n",
        "4. Division /\n",
        "5. Modulus %\n",
        "             \"\"\")\n",
        "\n",
        "operation = input(\"choose the operation you want to perform (+,-,*,/,%) : \")\n",
        "\n",
        "num2 = float(input(\"\\nEnter a second Number : \"))\n",
        "\n",
        "if operation == \"+\":\n",
        "  print(f\"\\n{num1} + {num2} = {num1 + num2}\")\n",
        "elif operation == \"-\":\n",
        "  print(f\"\\n{num1} - {num2} = {num1 - num2}\")\n",
        "elif operation == \"*\":\n",
        "  print(f\"\\n{num1} * {num2} = {num1 * num2}\")\n",
        "elif operation == \"/\":\n",
        "  print(f\"\\n{num1} / {num2} = {num1 / num2}\")\n",
        "elif operation == \"%\":\n",
        "  print(f\"\\n{num1} % {num2} = {num1 % num2}\")\n",
        "else:\n",
        "  print(\"\\nInvalid operation! Please Choose (+,-,*,/,%)\")"
      ],
      "metadata": {
        "colab": {
          "base_uri": "https://localhost:8080/"
        },
        "id": "sN0XmUERBaFh",
        "outputId": "26440730-2a27-46f2-b45c-e89e3d9d3d64"
      },
      "execution_count": 43,
      "outputs": [
        {
          "output_type": "stream",
          "name": "stdout",
          "text": [
            "Enter a first Number : 39\n",
            "\n",
            "Here below are the available operations\n",
            "1. Addition +\n",
            "2. Subtraction - \n",
            "3. Multiplication *\n",
            "4. Division /\n",
            "5. Modulus % \n",
            "             \n",
            "choose the operation you want to perform (+,-,*,/,%) : /\n",
            "\n",
            "Enter a second Number : 3\n",
            "\n",
            "39.0 / 3.0 = 13.0\n"
          ]
        }
      ]
    },
    {
      "cell_type": "markdown",
      "source": [
        "# **Task 15**"
      ],
      "metadata": {
        "id": "u4w5yn-3Etyh"
      }
    },
    {
      "cell_type": "code",
      "source": [
        "words = [\"zero\", \"one\", \"two\", \"three\", \"four\", \"five\", \"six\", \"seven\", \"eight\", \"nine\"]\n",
        "\n",
        "six_digit_num =int(input(\"Enter a number (up to 6 digits): \"))\n",
        "str_num = str(six_digit_num)\n",
        "length = len(str_num)\n",
        "if length <=6 :\n",
        "\n",
        "  my_list = list(str_num)\n",
        "  print(\"\\nDigits in the wrods are : \\n\")\n",
        "\n",
        "  if length == 1:\n",
        "     print(words[int(my_list[0])])\n",
        "  elif length == 2:\n",
        "     print(words[int(my_list[0])])\n",
        "     print(words[int(my_list[1])])\n",
        "  elif length == 3:\n",
        "     print(words[int(my_list[0])])\n",
        "     print(words[int(my_list[1])])\n",
        "     print(words[int(my_list[2])])\n",
        "  elif length == 4:\n",
        "     print(words[int(my_list[0])])\n",
        "     print(words[int(my_list[1])])\n",
        "     print(words[int(my_list[2])])\n",
        "     print(words[int(my_list[3])])\n",
        "  elif length == 5:\n",
        "     print(words[int(my_list[0])])\n",
        "     print(words[int(my_list[1])])\n",
        "     print(words[int(my_list[2])])\n",
        "     print(words[int(my_list[3])])\n",
        "     print(words[int(my_list[4])])\n",
        "  elif length == 6:\n",
        "     print(words[int(my_list[0])])\n",
        "     print(words[int(my_list[1])])\n",
        "     print(words[int(my_list[2])])\n",
        "     print(words[int(my_list[3])])\n",
        "     print(words[int(my_list[4])])\n",
        "     print(words[int(my_list[5])])\n",
        "else :\n",
        "   print(\"Invalid input! Number exceeds 6 digits.\")\n"
      ],
      "metadata": {
        "colab": {
          "base_uri": "https://localhost:8080/"
        },
        "id": "KrylQqFwEwo3",
        "outputId": "26e22e34-75c2-435b-9347-47ca971ef802"
      },
      "execution_count": 113,
      "outputs": [
        {
          "output_type": "stream",
          "name": "stdout",
          "text": [
            "Enter a number (up to 6 digits): 987603\n",
            "\n",
            "Digits in the wrods are : \n",
            "\n",
            "nine\n",
            "eight\n",
            "seven\n",
            "six\n",
            "zero\n",
            "three\n"
          ]
        }
      ]
    },
    {
      "cell_type": "code",
      "source": [],
      "metadata": {
        "id": "ztjBJBVpQ2hQ"
      },
      "execution_count": null,
      "outputs": []
    }
  ]
}