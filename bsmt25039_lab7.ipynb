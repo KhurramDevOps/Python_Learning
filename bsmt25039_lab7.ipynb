{
  "nbformat": 4,
  "nbformat_minor": 0,
  "metadata": {
    "colab": {
      "provenance": [],
      "authorship_tag": "ABX9TyMJoasQUyumVzARybTgzqn8",
      "include_colab_link": true
    },
    "kernelspec": {
      "name": "python3",
      "display_name": "Python 3"
    },
    "language_info": {
      "name": "python"
    }
  },
  "cells": [
    {
      "cell_type": "markdown",
      "metadata": {
        "id": "view-in-github",
        "colab_type": "text"
      },
      "source": [
        "<a href=\"https://colab.research.google.com/github/KhurramDevOps/Python_Learning/blob/master/bsmt25039_lab7.ipynb\" target=\"_parent\"><img src=\"https://colab.research.google.com/assets/colab-badge.svg\" alt=\"Open In Colab\"/></a>"
      ]
    },
    {
      "cell_type": "markdown",
      "source": [
        "# **Muhammad Khurram**"
      ],
      "metadata": {
        "id": "-SAgcoLyLbko"
      }
    },
    {
      "cell_type": "markdown",
      "source": [
        "# **Bsmt25039**"
      ],
      "metadata": {
        "id": "l81JwxnbLfjn"
      }
    },
    {
      "cell_type": "markdown",
      "source": [
        "# **Task 1**"
      ],
      "metadata": {
        "id": "haPzCt2CP-gN"
      }
    },
    {
      "cell_type": "code",
      "execution_count": null,
      "metadata": {
        "colab": {
          "base_uri": "https://localhost:8080/",
          "height": 349
        },
        "id": "6YEBUwp9LTgd",
        "outputId": "781e5cce-8625-4513-994a-9e220f10b0bd"
      },
      "outputs": [
        {
          "output_type": "stream",
          "name": "stdout",
          "text": [
            "[1, 2, 3, 4, 5, 6, 7, 8]\n",
            "[1, 1.5, 2, 3, 4, 5, 6, 7, 8]\n",
            "[1, 1.5, 2, 4, 5, 6, 7, 8]\n",
            "\n",
            " {1, 2, 3, 4, 5, 6, 7, 8}\n",
            "\n",
            " {1, 2, 3, 4, 5, 6, 7, 8, 9, 10}\n",
            "\n",
            " {1, 2, 3, 4, 6, 7, 8, 9, 10}\n"
          ]
        },
        {
          "output_type": "error",
          "ename": "AttributeError",
          "evalue": "'tuple' object has no attribute 'remove'",
          "traceback": [
            "\u001b[0;31m---------------------------------------------------------------------------\u001b[0m",
            "\u001b[0;31mAttributeError\u001b[0m                            Traceback (most recent call last)",
            "\u001b[0;32m/tmp/ipython-input-517772542.py\u001b[0m in \u001b[0;36m<cell line: 0>\u001b[0;34m()\u001b[0m\n\u001b[1;32m     21\u001b[0m \u001b[0;31m# my_tuple.update([9,10])\u001b[0m\u001b[0;34m\u001b[0m\u001b[0;34m\u001b[0m\u001b[0m\n\u001b[1;32m     22\u001b[0m \u001b[0;31m# print(my_tuple)\u001b[0m\u001b[0;34m\u001b[0m\u001b[0;34m\u001b[0m\u001b[0m\n\u001b[0;32m---> 23\u001b[0;31m \u001b[0mmy_tuple\u001b[0m\u001b[0;34m.\u001b[0m\u001b[0mremove\u001b[0m\u001b[0;34m(\u001b[0m\u001b[0;36m5\u001b[0m\u001b[0;34m)\u001b[0m\u001b[0;34m\u001b[0m\u001b[0;34m\u001b[0m\u001b[0m\n\u001b[0m\u001b[1;32m     24\u001b[0m \u001b[0mprint\u001b[0m\u001b[0;34m(\u001b[0m\u001b[0mmy_tuple\u001b[0m\u001b[0;34m)\u001b[0m\u001b[0;34m\u001b[0m\u001b[0;34m\u001b[0m\u001b[0m\n",
            "\u001b[0;31mAttributeError\u001b[0m: 'tuple' object has no attribute 'remove'"
          ]
        }
      ],
      "source": [
        "my_list = [1,2,3,4,5,6,7]\n",
        "my_list.append(8)\n",
        "print(my_list)\n",
        "my_list.insert(1,1.5)\n",
        "print(my_list)\n",
        "my_list.remove(3)\n",
        "print(my_list)\n",
        "\n",
        "# The my list didnt give error on any of the adding removing or changing elements cuz it has its own\n",
        "# functions\n",
        "\n",
        "\n",
        "my_set = {1,2,3,4,5,6,7}\n",
        "my_set.add(8)\n",
        "print(\"\\n\",my_set)\n",
        "my_set.update([9,10])\n",
        "print(\"\\n\",my_set)\n",
        "my_set.remove(5)\n",
        "print(\"\\n\",my_set)\n",
        "\n",
        "# The my set didnt give error on chnage updateing or removing from the set cuz it has it own functions\n",
        "\n",
        "\n",
        "\n",
        "my_tuple = (1,2,3,4,5,6,7)\n",
        "my_tuple.add(8)\n",
        "print(my_tuple)\n",
        "my_tuple.update([9,10])\n",
        "print(my_tuple)\n",
        "my_tuple.remove(5)\n",
        "print(my_tuple)\n",
        "\n",
        "# The My tuple is immutable and gives error on add change or remove cuz it has not its functions of these\n",
        "# if we want to change or update or remove them we have to convert them into list then we can chnage it\n"
      ]
    },
    {
      "cell_type": "markdown",
      "source": [
        "# **Task 2**"
      ],
      "metadata": {
        "id": "SqyLaVipQBYt"
      }
    },
    {
      "cell_type": "code",
      "source": [
        "my_list_1 = [10,20,30,40,20,30,50,90]\n",
        "print(f\"My len of list is {len(my_list_1)} and the list is : {my_list_1}\")\n",
        "my_set_1 = set(my_list_1)\n",
        "print(f\"\\nMy len of set is {len(my_set_1)} and the set is : {my_set_1}\")\n",
        "my_tuple_1 = tuple(my_list_1)\n",
        "print(f\"\\nMy len of tuple is {len(my_tuple_1)} and the tuple is : {my_tuple_1}\")\n",
        "\n",
        "# list and tuple print the all elements and have the same len even if they repeats multiple times and have different indexes\n",
        "# but as we see the set doesn't print the repeating element and its len is less than list\n",
        "# and tuple as we know that set have unique values and\n",
        "# unordered so it ignores the repeated values and just print the unique ones"
      ],
      "metadata": {
        "id": "XvEz4hxDNPre",
        "colab": {
          "base_uri": "https://localhost:8080/"
        },
        "outputId": "7196fe3c-fbd2-49be-da18-ca7547f5a209"
      },
      "execution_count": null,
      "outputs": [
        {
          "output_type": "stream",
          "name": "stdout",
          "text": [
            "My len of list is 8 and the list is : [10, 20, 30, 40, 20, 30, 50, 90]\n",
            "\n",
            "My len of set is 6 and the set is : {40, 10, 50, 20, 90, 30}\n",
            "\n",
            "My len of tuple is 8 and the tuple is : (10, 20, 30, 40, 20, 30, 50, 90)\n"
          ]
        }
      ]
    },
    {
      "cell_type": "markdown",
      "source": [
        "# **Task 3**"
      ],
      "metadata": {
        "id": "XZe2sBoITrEc"
      }
    },
    {
      "cell_type": "code",
      "source": [
        "tup = (1,)\n",
        "print(tup)\n",
        "print(type(tup))\n",
        "\n",
        "# to create a tuple with one element we use the (1,) comma after that and its type is tuple\n",
        "# if we create a tuple (1) like that its not tuple its type is now integer\n",
        "\n",
        "tup_2 = (2,2.5,\"Hello\",True,2+5j)\n",
        "print(tup_2)"
      ],
      "metadata": {
        "colab": {
          "base_uri": "https://localhost:8080/"
        },
        "id": "ElpaF8oAR-ci",
        "outputId": "73435bb7-1603-4b6e-d1e2-b069e2769088"
      },
      "execution_count": null,
      "outputs": [
        {
          "output_type": "stream",
          "name": "stdout",
          "text": [
            "(1,)\n",
            "<class 'tuple'>\n",
            "(2, 2.5, 'Hello', True, (2+5j))\n"
          ]
        }
      ]
    },
    {
      "cell_type": "markdown",
      "source": [
        "# **Task 4**"
      ],
      "metadata": {
        "id": "mO1sW4XkUt1X"
      }
    },
    {
      "cell_type": "code",
      "source": [
        "tup_3 = (40,78,\"meow\",\"bye\",True,4.5)\n",
        "print(tup_3[0])\n",
        "print(tup_3[-1])\n",
        "print(tup_3[12]) # it gives error tuple inex out of range as we know that our tuple have not that much elementsin it so the tuple didn't access it and it gives us error"
      ],
      "metadata": {
        "colab": {
          "base_uri": "https://localhost:8080/",
          "height": 228
        },
        "id": "bEfoTIxwT4m3",
        "outputId": "3178f082-0f0b-498c-9e6b-bbd32f1319e3"
      },
      "execution_count": null,
      "outputs": [
        {
          "output_type": "stream",
          "name": "stdout",
          "text": [
            "40\n",
            "4.5\n"
          ]
        },
        {
          "output_type": "error",
          "ename": "IndexError",
          "evalue": "tuple index out of range",
          "traceback": [
            "\u001b[0;31m---------------------------------------------------------------------------\u001b[0m",
            "\u001b[0;31mIndexError\u001b[0m                                Traceback (most recent call last)",
            "\u001b[0;32m/tmp/ipython-input-4039535312.py\u001b[0m in \u001b[0;36m<cell line: 0>\u001b[0;34m()\u001b[0m\n\u001b[1;32m      2\u001b[0m \u001b[0mprint\u001b[0m\u001b[0;34m(\u001b[0m\u001b[0mtup_3\u001b[0m\u001b[0;34m[\u001b[0m\u001b[0;36m0\u001b[0m\u001b[0;34m]\u001b[0m\u001b[0;34m)\u001b[0m\u001b[0;34m\u001b[0m\u001b[0;34m\u001b[0m\u001b[0m\n\u001b[1;32m      3\u001b[0m \u001b[0mprint\u001b[0m\u001b[0;34m(\u001b[0m\u001b[0mtup_3\u001b[0m\u001b[0;34m[\u001b[0m\u001b[0;34m-\u001b[0m\u001b[0;36m1\u001b[0m\u001b[0;34m]\u001b[0m\u001b[0;34m)\u001b[0m\u001b[0;34m\u001b[0m\u001b[0;34m\u001b[0m\u001b[0m\n\u001b[0;32m----> 4\u001b[0;31m \u001b[0mprint\u001b[0m\u001b[0;34m(\u001b[0m\u001b[0mtup_3\u001b[0m\u001b[0;34m[\u001b[0m\u001b[0;36m12\u001b[0m\u001b[0;34m]\u001b[0m\u001b[0;34m)\u001b[0m \u001b[0;31m# it gives error tuple inex out of range as we know that our tuple have not that much elementsin it so the tuple didn't access it and it gives us error\u001b[0m\u001b[0;34m\u001b[0m\u001b[0;34m\u001b[0m\u001b[0m\n\u001b[0m",
            "\u001b[0;31mIndexError\u001b[0m: tuple index out of range"
          ]
        }
      ]
    },
    {
      "cell_type": "markdown",
      "source": [
        "# **Task 5**"
      ],
      "metadata": {
        "id": "IIPr7tNBWcjX"
      }
    },
    {
      "cell_type": "code",
      "source": [
        "tup_4 = [30,60,90,120,150,180,210]\n",
        "tup_4[-3:]\n",
        "\n",
        "# in negative indexing the all the elements have the negative indexing start from the last item and its index is -1\n",
        "# and so on.\n",
        "# when we use [start:end:step] when we use [-3:] it means it prints all elemnst from -3 to ownward like -2 ,-1\n",
        "\n"
      ],
      "metadata": {
        "colab": {
          "base_uri": "https://localhost:8080/"
        },
        "id": "RsylVpT_VNI4",
        "outputId": "a3e45bbb-b93d-472c-b3ba-9bbe2214ff21"
      },
      "execution_count": null,
      "outputs": [
        {
          "output_type": "execute_result",
          "data": {
            "text/plain": [
              "[150, 180, 210]"
            ]
          },
          "metadata": {},
          "execution_count": 38
        }
      ]
    },
    {
      "cell_type": "markdown",
      "source": [
        "# **Task 6**"
      ],
      "metadata": {
        "id": "tIe33MDTdEYd"
      }
    },
    {
      "cell_type": "code",
      "source": [
        "tup_5 = (10,20,30,40,50)\n",
        "tuple_in_list = list(tup_5)\n",
        "tuple_in_list.append(60)\n",
        "tup_5 = tuple(tuple_in_list)\n",
        "print(\"The updated tuple is : \",tup_5)\n",
        "# to change some thing in tuple we use to convert it into the list and t hen use th list methods to make the\n",
        "# chnage and then again convert it into tuple and we have the updated tuple now\n",
        "tuple_in_list[2] += 80\n",
        "tup_5 = tuple(tuple_in_list)\n",
        "print(\"The use of += in tuple \",tup_5)\n",
        "\n",
        "# the use of += as we do mean we add 80 yo index three where 30 is exists and we\n",
        "# add 80 in it not it is 110 and = means we assign that value in to the list\n",
        "# this means we do two tasks at same line adding and assigning\n"
      ],
      "metadata": {
        "id": "PQaiVjv_WsQO",
        "colab": {
          "base_uri": "https://localhost:8080/"
        },
        "outputId": "bb11946e-03fe-495f-e251-a7f4664c242f"
      },
      "execution_count": null,
      "outputs": [
        {
          "output_type": "stream",
          "name": "stdout",
          "text": [
            "The updated tuple is :  (10, 20, 30, 40, 50, 60)\n",
            "The use of += in tuple  (10, 20, 110, 40, 50, 60)\n"
          ]
        }
      ]
    },
    {
      "cell_type": "markdown",
      "source": [
        "# **Task 7**"
      ],
      "metadata": {
        "id": "RyEhi571fzV1"
      }
    },
    {
      "cell_type": "code",
      "source": [
        "tup_6 = (20,40,60,80,100)\n",
        "# we cant directly remove element from tuple cuz tuple dont have bulit in function of that\n",
        "# s o we have to convert it to list first then we have access to all the list functions\n",
        "# that we can use to update del remove add etc and then convert it to original tuple\n",
        "# and now the tupel is updated\n",
        "\n",
        "li = list(tup_6)\n",
        "li.remove(40)\n",
        "tup_6 = tuple(li)\n",
        "print(tup_6)\n",
        "#\n",
        "\n",
        "del tup_6\n",
        "print(tup_6) # when print it gives us error cuz the tuple is deleted in the above line and when we try to print it\n",
        "# it give us error cuz in the last line we del it and now the interprater dosnt know what is tup_6 cuz it is deleted"
      ],
      "metadata": {
        "colab": {
          "base_uri": "https://localhost:8080/",
          "height": 245
        },
        "id": "4caQhFTDd48Y",
        "outputId": "a96ef0b1-0700-4d5c-ed75-ffab1b4defbd"
      },
      "execution_count": null,
      "outputs": [
        {
          "output_type": "stream",
          "name": "stdout",
          "text": [
            "(20, 60, 80, 100)\n"
          ]
        },
        {
          "output_type": "error",
          "ename": "NameError",
          "evalue": "name 'tup_6' is not defined",
          "traceback": [
            "\u001b[0;31m---------------------------------------------------------------------------\u001b[0m",
            "\u001b[0;31mNameError\u001b[0m                                 Traceback (most recent call last)",
            "\u001b[0;32m/tmp/ipython-input-1726206839.py\u001b[0m in \u001b[0;36m<cell line: 0>\u001b[0;34m()\u001b[0m\n\u001b[1;32m     12\u001b[0m \u001b[0;34m\u001b[0m\u001b[0m\n\u001b[1;32m     13\u001b[0m \u001b[0;32mdel\u001b[0m \u001b[0mtup_6\u001b[0m\u001b[0;34m\u001b[0m\u001b[0;34m\u001b[0m\u001b[0m\n\u001b[0;32m---> 14\u001b[0;31m \u001b[0mprint\u001b[0m\u001b[0;34m(\u001b[0m\u001b[0mtup_6\u001b[0m\u001b[0;34m)\u001b[0m \u001b[0;31m# when print it gives us error cuz the tuple is deleted in the above line and when we try to print it\u001b[0m\u001b[0;34m\u001b[0m\u001b[0;34m\u001b[0m\u001b[0m\n\u001b[0m\u001b[1;32m     15\u001b[0m \u001b[0;31m# it give us error cuz in the last line we del it and now the interprater dosnt know what is tup_6 cuz it is deleted\u001b[0m\u001b[0;34m\u001b[0m\u001b[0;34m\u001b[0m\u001b[0m\n",
            "\u001b[0;31mNameError\u001b[0m: name 'tup_6' is not defined"
          ]
        }
      ]
    },
    {
      "cell_type": "markdown",
      "source": [
        "# **Task 8**"
      ],
      "metadata": {
        "id": "mEX3_Wldg-BM"
      }
    },
    {
      "cell_type": "code",
      "source": [
        "tup_7 = (\"pakistan\", \"india\", \"USA\", \"Uk\" , \"Austrailia\")\n",
        "v,w,x,y,z = tup_7\n",
        "print(v)\n",
        "print(w)\n",
        "print(x)\n",
        "print(y)\n",
        "print(z)"
      ],
      "metadata": {
        "colab": {
          "base_uri": "https://localhost:8080/"
        },
        "id": "rDX5TMLLgi4-",
        "outputId": "d96731a0-df8a-424e-d814-f0492c31f688"
      },
      "execution_count": null,
      "outputs": [
        {
          "output_type": "stream",
          "name": "stdout",
          "text": [
            "pakistan\n",
            "india\n",
            "USA\n",
            "Uk\n",
            "Austrailia\n"
          ]
        }
      ]
    },
    {
      "cell_type": "markdown",
      "source": [
        "# **Task 9**"
      ],
      "metadata": {
        "id": "EtKI1_BziJVl"
      }
    },
    {
      "cell_type": "code",
      "source": [
        "tup_7 = (\"basketball\",\"cricket\", \"Tennis\", \"Football\",\"badminton\")\n",
        "a,b,*z = tup_7\n",
        "print(a)\n",
        "print(b)\n",
        "print(z)"
      ],
      "metadata": {
        "colab": {
          "base_uri": "https://localhost:8080/"
        },
        "id": "9jfbEXF7hi7P",
        "outputId": "b146d21d-a27d-41d1-e891-9c556139f27e"
      },
      "execution_count": null,
      "outputs": [
        {
          "output_type": "stream",
          "name": "stdout",
          "text": [
            "basketball\n",
            "cricket\n",
            "['Tennis', 'Football', 'badminton']\n"
          ]
        }
      ]
    },
    {
      "cell_type": "markdown",
      "source": [
        "# **Task 10**"
      ],
      "metadata": {
        "id": "zmnensfLizYt"
      }
    },
    {
      "cell_type": "code",
      "source": [
        "tup_8 = (\"mango\" ,\"cherry\", \"apple\",\"banana\")\n",
        "tup_9 = (\"dates\", \"plum\", \"blueberry\")\n",
        "\n",
        "tup_10 = tup_8 + tup_9\n",
        "print(\"The concatenated tuple is : \",tup_10)\n",
        "\n",
        "tup_11 = tup_9 * 3\n",
        "print(\"The repeated tuple is : \",tup_11)\n"
      ],
      "metadata": {
        "colab": {
          "base_uri": "https://localhost:8080/"
        },
        "id": "-UyMFDlEiwKX",
        "outputId": "60e65e76-7b96-4dcf-eada-655d84c1b780"
      },
      "execution_count": null,
      "outputs": [
        {
          "output_type": "stream",
          "name": "stdout",
          "text": [
            "The concatenated tuple is :  ('mango', 'cherry', 'apple', 'banana', 'dates', 'plum', 'blueberry')\n",
            "The repeated tuple is :  ('dates', 'plum', 'blueberry', 'dates', 'plum', 'blueberry', 'dates', 'plum', 'blueberry')\n"
          ]
        }
      ]
    },
    {
      "cell_type": "markdown",
      "source": [
        "# **Task 11**"
      ],
      "metadata": {
        "id": "yPQ5_UZoj2Dl"
      }
    },
    {
      "cell_type": "code",
      "source": [
        "i = 1\n",
        "\n",
        "while i <=10:\n",
        "    print(i)\n",
        "    i += 1"
      ],
      "metadata": {
        "colab": {
          "base_uri": "https://localhost:8080/"
        },
        "id": "Hnj590cbjzI_",
        "outputId": "047f0abb-2f5b-4f14-8b7a-e76eaeb46001"
      },
      "execution_count": null,
      "outputs": [
        {
          "output_type": "stream",
          "name": "stdout",
          "text": [
            "1\n",
            "2\n",
            "3\n",
            "4\n",
            "5\n",
            "6\n",
            "7\n",
            "8\n",
            "9\n",
            "10\n"
          ]
        }
      ]
    },
    {
      "cell_type": "markdown",
      "source": [
        "# **Task 12**"
      ],
      "metadata": {
        "id": "KKn78aeKkM6E"
      }
    },
    {
      "cell_type": "code",
      "source": [
        "numbers = int(input(\"Enter number : \"))\n",
        "while numbers >= 1:\n",
        "    print(numbers)\n",
        "    numbers -= 1\n",
        "    sum += numbers\n",
        "print(\"The sum of numbers is : \",sum)\n",
        "\n"
      ],
      "metadata": {
        "colab": {
          "base_uri": "https://localhost:8080/"
        },
        "id": "vJmnMEfRkLn1",
        "outputId": "af356d26-4edb-4162-a0a2-5918f3d116b5"
      },
      "execution_count": null,
      "outputs": [
        {
          "output_type": "stream",
          "name": "stdout",
          "text": [
            "Enter number : 13\n",
            "13\n",
            "12\n",
            "11\n",
            "10\n",
            "9\n",
            "8\n",
            "7\n",
            "6\n",
            "5\n",
            "4\n",
            "3\n",
            "2\n",
            "1\n",
            "The sum of numbers is :  89\n"
          ]
        }
      ]
    },
    {
      "cell_type": "markdown",
      "source": [
        "# **Task 13**"
      ],
      "metadata": {
        "id": "tyPs-WwpohcO"
      }
    },
    {
      "cell_type": "code",
      "source": [
        "num = int(input(\"Enter a number : \"))\n",
        "while num >=1:\n",
        "  print(num)\n",
        "  num -= 1\n"
      ],
      "metadata": {
        "colab": {
          "base_uri": "https://localhost:8080/"
        },
        "id": "D1GBX88xmmj-",
        "outputId": "ce85f442-aa4f-4a20-a289-f329e438cf46"
      },
      "execution_count": null,
      "outputs": [
        {
          "output_type": "stream",
          "name": "stdout",
          "text": [
            "Enter a number : 12\n",
            "12\n",
            "11\n",
            "10\n",
            "9\n",
            "8\n",
            "7\n",
            "6\n",
            "5\n",
            "4\n",
            "3\n",
            "2\n",
            "1\n"
          ]
        }
      ]
    },
    {
      "cell_type": "markdown",
      "source": [
        "# **Task 14**"
      ],
      "metadata": {
        "id": "WcUvFxMopnL1"
      }
    },
    {
      "cell_type": "code",
      "source": [],
      "metadata": {
        "id": "5X5LaB6Aq80O"
      },
      "execution_count": null,
      "outputs": []
    }
  ]
}