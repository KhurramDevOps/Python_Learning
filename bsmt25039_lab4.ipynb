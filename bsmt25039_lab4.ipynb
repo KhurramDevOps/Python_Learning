{
  "nbformat": 4,
  "nbformat_minor": 0,
  "metadata": {
    "colab": {
      "provenance": [],
      "authorship_tag": "ABX9TyNXOEQrzm+UvX6MGf53R4Yh",
      "include_colab_link": true
    },
    "kernelspec": {
      "name": "python3",
      "display_name": "Python 3"
    },
    "language_info": {
      "name": "python"
    }
  },
  "cells": [
    {
      "cell_type": "markdown",
      "metadata": {
        "id": "view-in-github",
        "colab_type": "text"
      },
      "source": [
        "<a href=\"https://colab.research.google.com/github/KhurramDevOps/Python_Learning/blob/master/bsmt25039_lab4.ipynb\" target=\"_parent\"><img src=\"https://colab.research.google.com/assets/colab-badge.svg\" alt=\"Open In Colab\"/></a>"
      ]
    },
    {
      "cell_type": "markdown",
      "source": [
        "# **Task 1**"
      ],
      "metadata": {
        "id": "r3GrWPXrNIya"
      }
    },
    {
      "cell_type": "code",
      "source": [
        "x = float(input(\"Enter a number : \"))\n",
        "\n",
        "if x > 0:\n",
        "  print(\"The number is positive\")\n",
        "elif x < 0:\n",
        "  print(\"The number is negative\")\n",
        "else:\n",
        "  print(\"The number is zero\")"
      ],
      "metadata": {
        "colab": {
          "base_uri": "https://localhost:8080/"
        },
        "id": "5X_lvy3XNInt",
        "outputId": "cbe900bd-5742-4c2e-e2b5-098e60f18a49"
      },
      "execution_count": null,
      "outputs": [
        {
          "output_type": "stream",
          "name": "stdout",
          "text": [
            "Enter a number : 39\n",
            "The number is positive\n"
          ]
        }
      ]
    },
    {
      "cell_type": "markdown",
      "source": [
        "# ***Task 2***"
      ],
      "metadata": {
        "id": "JGn-BdJvF-Us"
      }
    },
    {
      "cell_type": "code",
      "execution_count": null,
      "metadata": {
        "colab": {
          "base_uri": "https://localhost:8080/"
        },
        "id": "XHAKaey3F6Yb",
        "outputId": "63b695c4-adb2-424c-9454-2da7df758668"
      },
      "outputs": [
        {
          "output_type": "stream",
          "name": "stdout",
          "text": [
            "ENter you account balance: 3000\n",
            "Enter the amount you want to withdraw : 32000\n",
            "Insufficient balance\n"
          ]
        }
      ],
      "source": [
        "account_balance = int(input(\"ENter you account balance: \"))\n",
        "withdraw_amount = int(input(\"Enter the amount you want to withdraw : \"))\n",
        "\n",
        "if withdraw_amount <= account_balance:\n",
        "  print(f\"The amount{withdraw_amount} is drawn from your account balance\")\n",
        "else:\n",
        "  print(\"Insufficient balance\")"
      ]
    },
    {
      "cell_type": "markdown",
      "source": [
        "## **Task 3**"
      ],
      "metadata": {
        "id": "Wz3d16zyHSv_"
      }
    },
    {
      "cell_type": "code",
      "source": [
        "team_1_score = int(input(\"Enter the score of team 1: \"))\n",
        "\n",
        "if team_1_score > 200:\n",
        "  print(\"Team will win\")\n",
        "elif team_1_score < 150:\n",
        "  print(\"Team will lose\")\n",
        "elif team_1_score >= 150 and team_1_score <= 200:\n",
        "  print(\"It will bw a good match\")\n",
        "else:\n",
        "  print(\"Invalid input\")"
      ],
      "metadata": {
        "colab": {
          "base_uri": "https://localhost:8080/"
        },
        "id": "i_5vApmRHFQP",
        "outputId": "7da8c8a8-09b9-4947-e4a0-b77924ade272"
      },
      "execution_count": null,
      "outputs": [
        {
          "output_type": "stream",
          "name": "stdout",
          "text": [
            "Enter the score of team 1: 178\n",
            "It will bw a good match\n"
          ]
        }
      ]
    },
    {
      "cell_type": "markdown",
      "source": [
        "# **Task 4**"
      ],
      "metadata": {
        "id": "-_aUbPfhIHOb"
      }
    },
    {
      "cell_type": "code",
      "source": [
        "customer_age = int(input(\"Enter the age : \"))\n",
        "meal_price = int(input(\"Enter the price of meal : \"))\n",
        "\n",
        "if customer_age < 4:\n",
        "  print(\"Meal is free for you\")\n",
        "else:\n",
        "  if customer_age >=4 and customer_age <= 10:\n",
        "    print(f\"The meal price is half for you {meal_price/2}\")\n",
        "  else:\n",
        "    print(f\"Meal is not free for you pay full price {meal_price}\")"
      ],
      "metadata": {
        "colab": {
          "base_uri": "https://localhost:8080/"
        },
        "id": "KAQQZP6bIJMy",
        "outputId": "840f8a6b-cd29-4219-c032-2ba28dcc4e72"
      },
      "execution_count": null,
      "outputs": [
        {
          "output_type": "stream",
          "name": "stdout",
          "text": [
            "Enter the age : 19\n",
            "Enter the price of meal : 1000\n",
            "Meal is not free for you pay full price 1000\n"
          ]
        }
      ]
    },
    {
      "cell_type": "markdown",
      "source": [
        "# **Task 5**"
      ],
      "metadata": {
        "id": "AI9zGjXSMNYq"
      }
    },
    {
      "cell_type": "code",
      "source": [
        "user_input = float(input(\"Enter a number: \"))\n",
        "number = user_input\n",
        "if id(user_input) is id(number):\n",
        "  print(\"The variables have the same memory location.\")\n",
        "else:\n",
        "  print(\"The variables have different memory locations.\")"
      ],
      "metadata": {
        "colab": {
          "base_uri": "https://localhost:8080/"
        },
        "id": "B5VT3BNxMO2S",
        "outputId": "7cdf386a-46ea-46a3-81f4-ebc6c1d62e24"
      },
      "execution_count": null,
      "outputs": [
        {
          "output_type": "stream",
          "name": "stdout",
          "text": [
            "Enter a number: 39\n",
            "The variables have different memory locations.\n"
          ]
        }
      ]
    },
    {
      "cell_type": "markdown",
      "source": [
        "# **Task 6**"
      ],
      "metadata": {
        "id": "K4Cf2BZ-OJoC"
      }
    },
    {
      "cell_type": "code",
      "source": [
        "student_marks = int(input(\"Enter your marks: \"))\n",
        "attendence = int(input(\"ENter your attendence :  \"))\n",
        "\n",
        "if student_marks >= 85 and (attendence >= 75 and attendence <= 85):\n",
        "  print(\"Eligible for full scholarship\")\n",
        "elif student_marks >= 70 and (attendence == 60):\n",
        "  print(\"Eligible for Half scholarship\")\n",
        "else:\n",
        "  print(\"Not eligible for scholarship\")\n",
        "#"
      ],
      "metadata": {
        "colab": {
          "base_uri": "https://localhost:8080/"
        },
        "id": "elrBewPSOLuJ",
        "outputId": "254a6b70-e6d7-4774-c4bf-c1f3945905ee"
      },
      "execution_count": null,
      "outputs": [
        {
          "output_type": "stream",
          "name": "stdout",
          "text": [
            "Enter your marks: 87\n",
            "ENter your attendence :  86\n",
            "Not eligible for scholarship\n"
          ]
        }
      ]
    },
    {
      "cell_type": "markdown",
      "source": [
        "## **Task 7**"
      ],
      "metadata": {
        "id": "6HAdazhqaX35"
      }
    },
    {
      "cell_type": "code",
      "source": [
        "day_number = int(input(\"Enter the day number: \"))\n",
        "\n",
        "match day_number:\n",
        "  case 1:\n",
        "    print(\"Monday\")\n",
        "  case 2:\n",
        "    print(\"Tuesday\")\n",
        "  case 3:\n",
        "    print(\"Wednesday\")\n",
        "  case 4:\n",
        "    print(\"Thursday\")\n",
        "  case 5:\n",
        "    print(\"Friday\")\n",
        "  case 6:\n",
        "    print(\"Saturday\")\n",
        "  case 7 :\n",
        "    print(\"Sunday\")\n",
        "  case _:\n",
        "    print(\"Invalid input\")\n"
      ],
      "metadata": {
        "colab": {
          "base_uri": "https://localhost:8080/"
        },
        "id": "kxNnWHAuacB9",
        "outputId": "969413ea-20ec-4239-b08c-6038709adfac"
      },
      "execution_count": null,
      "outputs": [
        {
          "output_type": "stream",
          "name": "stdout",
          "text": [
            "Enter the day number: 7\n",
            "Sunday\n"
          ]
        }
      ]
    },
    {
      "cell_type": "markdown",
      "source": [
        "# **Task 8**"
      ],
      "metadata": {
        "id": "a2QZYWYya3Ev"
      }
    },
    {
      "cell_type": "code",
      "source": [
        "budget = float(input(\"Enter your budget: \"))\n",
        "\n",
        "match budget:\n",
        "  case budget if budget <= 0 :\n",
        "    print(\"Invalid budget entered! Budget must be positive.\")\n",
        "  case budget if budget < 200:\n",
        "    print(\"You can buy a cold drink or a snack.\")\n",
        "  case budget if budget >= 200 and budget <= 499:\n",
        "    print(\"You can enjoy a burger or pasta.\")\n",
        "  case budget if budget >= 500 and budget <= 900 :\n",
        "    print(\"You can go for a pizza or a couple of meals.\")\n",
        "  case _:\n",
        "    print(\"You can enjoy a full family dinner!\")\n"
      ],
      "metadata": {
        "colab": {
          "base_uri": "https://localhost:8080/"
        },
        "id": "f3Fngluxa04_",
        "outputId": "5a150842-12f8-40e4-ab96-f06a744e882e"
      },
      "execution_count": null,
      "outputs": [
        {
          "output_type": "stream",
          "name": "stdout",
          "text": [
            "Enter your budget: 1000\n",
            "You can enjoy a full family dinner!\n"
          ]
        }
      ]
    },
    {
      "cell_type": "code",
      "source": [
        "budget = float(input(\"Enter your budget: \"))\n",
        "\n",
        "match budget:\n",
        "  case b:\n",
        "    if b <= 0 :\n",
        "      print(\"Invalid budget entered! Budget must be positive.\")\n",
        "\n",
        "    elif b < 200:\n",
        "      print(\"You can buy a cold drink or a snack.\")\n",
        "\n",
        "    elif b >= 200 and b <= 499:\n",
        "       print(\"You can enjoy a burger or pasta.\")\n",
        "\n",
        "    elif b >= 500 and b <= 900 :\n",
        "      print(\"You can go for a pizza or a couple of meals.\")\n",
        "    else :\n",
        "      print(\"You can enjoy a full family dinner!\")\n",
        "\n"
      ],
      "metadata": {
        "colab": {
          "base_uri": "https://localhost:8080/"
        },
        "id": "hMwbg5-Ab_9e",
        "outputId": "7e29bfa6-d383-4e16-913f-fa8246ea0ed9"
      },
      "execution_count": null,
      "outputs": [
        {
          "output_type": "stream",
          "name": "stdout",
          "text": [
            "Enter your budget: 01\n",
            "You can buy a cold drink or a snack.\n"
          ]
        }
      ]
    }
  ]
}