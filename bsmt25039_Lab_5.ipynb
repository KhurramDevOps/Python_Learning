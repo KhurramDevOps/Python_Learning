{
  "nbformat": 4,
  "nbformat_minor": 0,
  "metadata": {
    "colab": {
      "provenance": [],
      "authorship_tag": "ABX9TyMOhFJrLprAcVnw05nZM/Se",
      "include_colab_link": true
    },
    "kernelspec": {
      "name": "python3",
      "display_name": "Python 3"
    },
    "language_info": {
      "name": "python"
    }
  },
  "cells": [
    {
      "cell_type": "markdown",
      "metadata": {
        "id": "view-in-github",
        "colab_type": "text"
      },
      "source": [
        "<a href=\"https://colab.research.google.com/github/KhurramDevOps/Python_Learning/blob/master/bsmt25039_Lab_5.ipynb\" target=\"_parent\"><img src=\"https://colab.research.google.com/assets/colab-badge.svg\" alt=\"Open In Colab\"/></a>"
      ]
    },
    {
      "cell_type": "markdown",
      "source": [
        "# **Muhammad Khurram**"
      ],
      "metadata": {
        "id": "PzgxI95PAoZp"
      }
    },
    {
      "cell_type": "markdown",
      "source": [
        "# **bsmt25039**"
      ],
      "metadata": {
        "id": "bpMGM-bZAte_"
      }
    },
    {
      "cell_type": "markdown",
      "source": [
        "# **Task 1**"
      ],
      "metadata": {
        "id": "_dwWh-oGAyeH"
      }
    },
    {
      "cell_type": "code",
      "execution_count": null,
      "metadata": {
        "colab": {
          "base_uri": "https://localhost:8080/"
        },
        "id": "WGN4YFgSAWWx",
        "outputId": "8cc8c734-427f-4b7e-ea8d-f231215874d5"
      },
      "outputs": [
        {
          "output_type": "stream",
          "name": "stdout",
          "text": [
            "[1, 2, 3, 4, 5, 'hi', 'welcome to planet']\n",
            "[1, 2, 3, 4, 5, 'hi', 'welcome to planet']\n"
          ]
        }
      ],
      "source": [
        "my_list = [1,2,3,4,5,\"hi\",\"welcome to planet\"]\n",
        "my_list_cons = list([1,2,3,4,5,\"hi\",\"welcome to planet\"])\n",
        "print(my_list)\n",
        "print(my_list_cons)"
      ]
    },
    {
      "cell_type": "markdown",
      "source": [
        "# **Task 2**"
      ],
      "metadata": {
        "id": "uol1o_blEkuE"
      }
    },
    {
      "cell_type": "code",
      "source": [
        "data = [[\"apple\", \"banana\"], [5, 10, 15], [\"x\", \"y\", \"z\"]]\n",
        "first_index = str(data[1][0])\n",
        "last_index = data[-1][-1]\n",
        "\n",
        "print(first_index)\n",
        "print(last_index)\n",
        "\n",
        "string = first_index + last_index\n",
        "print(string)"
      ],
      "metadata": {
        "colab": {
          "base_uri": "https://localhost:8080/"
        },
        "id": "tZc2wo3zEd2d",
        "outputId": "9c69e2ed-fb24-4168-c09c-5a4f12ca7132"
      },
      "execution_count": null,
      "outputs": [
        {
          "output_type": "stream",
          "name": "stdout",
          "text": [
            "5\n",
            "z\n",
            "5z\n"
          ]
        }
      ]
    },
    {
      "cell_type": "markdown",
      "source": [
        "# **TAsk 3**"
      ],
      "metadata": {
        "id": "v40NJwUxHH71"
      }
    },
    {
      "cell_type": "code",
      "source": [
        "user = list(input(\"Enter a number : \"))\n",
        "print(user)\n",
        "del user[3]\n",
        "print(f\"\\nAfter delete midle number {user}\")\n",
        "user.pop()\n",
        "print(f\"\\nAfter delete last number using pop {user}\")\n",
        "\n",
        "del_list = input(\"\\nyou want to del the list (YES/NO)\").lower()\n",
        "\n",
        "if del_list == \"yes\":\n",
        "    del user\n",
        "    print(\"\\nThe list is deleted! \")\n",
        "    # print(user)\n",
        "else:\n",
        "    user.clear()\n",
        "    print(user)"
      ],
      "metadata": {
        "colab": {
          "base_uri": "https://localhost:8080/"
        },
        "id": "9H_3DwAYE0nU",
        "outputId": "c14f6e93-244a-40b7-f0b2-37a9144e2a54"
      },
      "execution_count": null,
      "outputs": [
        {
          "output_type": "stream",
          "name": "stdout",
          "text": [
            "Enter a number : 1234567\n",
            "['1', '2', '3', '4', '5', '6', '7']\n",
            "\n",
            "After delete midle number ['1', '2', '3', '5', '6', '7']\n",
            "\n",
            "After delete last number using pop ['1', '2', '3', '5', '6']\n",
            "\n",
            "you want to del the list (YES/NO)yes\n",
            "\n",
            "The list is deleted! \n"
          ]
        }
      ]
    },
    {
      "cell_type": "markdown",
      "source": [
        "# **TAsk 4**"
      ],
      "metadata": {
        "id": "o53X8BIlPK9Z"
      }
    },
    {
      "cell_type": "code",
      "source": [
        "letters = ['p', 'r', 'o', 'g', 'r', 'a', 'm']\n",
        "print(f\"The first four elements are :  {letters[:4]}\")\n",
        "print(f\"Gap of 2 are : {letters[1::2]}\")\n",
        "print(f\"Reversed list is : {letters[::-1]}\")"
      ],
      "metadata": {
        "colab": {
          "base_uri": "https://localhost:8080/"
        },
        "id": "tp6kmSlwK2EK",
        "outputId": "a1e3eceb-e21b-4690-a186-4628b18271c3"
      },
      "execution_count": null,
      "outputs": [
        {
          "output_type": "stream",
          "name": "stdout",
          "text": [
            "The first four elements are :  ['p', 'r', 'o', 'g']\n",
            "Gap of 2 are : ['r', 'g', 'a']\n",
            "Reversed list is : ['m', 'a', 'r', 'g', 'o', 'r', 'p']\n"
          ]
        }
      ]
    },
    {
      "cell_type": "markdown",
      "source": [
        "# **Task 5**"
      ],
      "metadata": {
        "id": "bBQWcSXYRgcZ"
      }
    },
    {
      "cell_type": "code",
      "source": [
        "rolls = []\n",
        "dice_1 = int(input(\"Enter first dice number [1 to 6] : \"))\n",
        "dice_2 = int(input(\"Enter second dice number [1 to 6] : \"))\n",
        "dice_3 = int(input(\"Enter third dice number [1 to 6] : \"))\n",
        "rolls.append(dice_1)\n",
        "rolls.append(dice_2)\n",
        "rolls.append(dice_3)\n",
        "print(f\"\\nThe dice rolls are : {rolls}\")\n",
        "\n",
        "bonus_rolls = [5, 6]\n",
        "rolls.extend(bonus_rolls)\n",
        "print(f\"\\nThe updated list is : {rolls}\")\n",
        "print(f\"\\nThe length of the list is : {len(rolls)}\")"
      ],
      "metadata": {
        "colab": {
          "base_uri": "https://localhost:8080/"
        },
        "id": "A60riBBfPbIY",
        "outputId": "272b6ce4-e7c4-4d52-ac4a-d2d14ab4052d"
      },
      "execution_count": null,
      "outputs": [
        {
          "output_type": "stream",
          "name": "stdout",
          "text": [
            "Enter first dice number [1 to 6] : 4\n",
            "Enter second dice number [1 to 6] : 2\n",
            "Enter third dice number [1 to 6] : 1\n",
            "\n",
            "The dice rolls are : [4, 2, 1]\n",
            "\n",
            "The updated list is : [4, 2, 1, 5, 6]\n",
            "\n",
            "The length of the list is : 5\n"
          ]
        }
      ]
    },
    {
      "cell_type": "markdown",
      "source": [
        "# **Task 6**"
      ],
      "metadata": {
        "id": "7vOSCY8QTz9X"
      }
    },
    {
      "cell_type": "code",
      "source": [
        "words = [\"apple\", \"banana\", \"cherry\", \"apple\", \"mango\", \"banana\", \"apple\", \"cherry\"]\n",
        "fruit_input = input(\"ENter the fruit name : \")\n",
        "\n",
        "if fruit_input not in words:\n",
        "    print(f\"{fruit_input}: is not in the list\")\n",
        "\n",
        "print(f\"The total times the {fruit_input} in the list are : {words.count(fruit_input)}\")\n",
        "print(f\"The INdex of {fruit_input} is : {words.index(fruit_input)}\")\n",
        "\n",
        "# print(words.index(fruit_input, words.index(fruit_input)+1)) this also works\n",
        "\n",
        "reversed = words[::-1]\n",
        "last_index = len(words) - reversed.index(fruit_input) -1\n",
        "print(f\"The last index of {fruit_input} is : {last_index}\")\n",
        "\n",
        "\n",
        "\n"
      ],
      "metadata": {
        "colab": {
          "base_uri": "https://localhost:8080/"
        },
        "id": "U-P-4XQFTHBn",
        "outputId": "f5eb7380-8399-497a-80b3-0d070c59ebae"
      },
      "execution_count": null,
      "outputs": [
        {
          "output_type": "stream",
          "name": "stdout",
          "text": [
            "ENter the fruit name : cherry\n",
            "The total times the cherry in the list are : 2\n",
            "The INdex of cherry is : 2\n",
            "The last index of cherry is : 7\n"
          ]
        }
      ]
    },
    {
      "cell_type": "markdown",
      "source": [
        "# **Task 7**"
      ],
      "metadata": {
        "id": "HYr_QXeYbenw"
      }
    },
    {
      "cell_type": "code",
      "source": [
        "players = [\"player 2\", \"player 3\", \"player 4\"]\n",
        "players.insert(1, \"player 1\")\n",
        "players.insert(5, \"player 5\")\n",
        "print(f\"2 new players player 1 and player 5 joins at position 1 and 5 : {players}\")\n",
        "players.remove(\"player 4\")\n",
        "print(f\"\\nOne player player 4 quits the game : {players}\")\n",
        "players.pop()\n",
        "print(f\"\\nThe last player in the queue loses connection — {players}\")\n",
        "\n",
        "\n",
        "\n",
        "#"
      ],
      "metadata": {
        "id": "TDlyUeEMUs7H",
        "colab": {
          "base_uri": "https://localhost:8080/"
        },
        "outputId": "a829c02e-e9b5-4650-d998-5f241b3101c2"
      },
      "execution_count": null,
      "outputs": [
        {
          "output_type": "stream",
          "name": "stdout",
          "text": [
            "2 new players player 1 and player 5 joins at position 1 and 5 : ['player 2', 'player 1', 'player 3', 'player 4', 'player 5']\n",
            "\n",
            "One player player 4 quits the game : ['player 2', 'player 1', 'player 3', 'player 5']\n",
            "\n",
            "The last player in the queue loses connection — ['player 2', 'player 1', 'player 3']\n"
          ]
        }
      ]
    },
    {
      "cell_type": "markdown",
      "source": [
        "# **Task 8**"
      ],
      "metadata": {
        "id": "k8NLWUv3e3WZ"
      }
    },
    {
      "cell_type": "code",
      "source": [
        "grades = [\"A\",\"B\",\"C\",\"D\"]\n",
        "print(f\"\\nOriginal list : {grades}\")\n",
        "\n",
        "if len(grades) >3 :\n",
        "  alias_list = grades\n",
        "  clone_list =grades.copy()\n",
        "\n",
        "  alias_list.insert(0,\"F\")\n",
        "  print(f\"\\nThe shallow copy is with F grade added : {alias_list}\")\n",
        "  print(f\"THe garde list is updated : {grades}\")\n",
        "\n",
        "  clone_list.append(\"F\")\n",
        "  print(f\"\\nThe clone list with F grade added : {clone_list}\")\n",
        "  print(f\"The grades list is not changed when changes in clone list occours :{grades}\")\n",
        "\n",
        "  print(\"\"\"\\nThe grade is updated through the shallow copy bcuz we made the list\n",
        "  \\nby just assigning the original list to the new variable so when we change in the\n",
        "  \\nshallow copy list there is the change in the original list .\n",
        "  \\nAnd when we make the copy using the copy function it will depp copy it bcuz when\n",
        "  \\nwe chnage in the deep copy list the original list\n",
        "is not effected and remain same so it is the deep copy \"\"\")\n",
        "else:\n",
        "  print(\"There is nothing to change !\")\n",
        "\n"
      ],
      "metadata": {
        "colab": {
          "base_uri": "https://localhost:8080/"
        },
        "id": "E_DvTYeid9IR",
        "outputId": "1bd44829-0436-471f-feff-b95b0319aac4"
      },
      "execution_count": null,
      "outputs": [
        {
          "output_type": "stream",
          "name": "stdout",
          "text": [
            "\n",
            "Original list : ['A', 'B', 'C', 'D']\n",
            "\n",
            "The shallow copy is with F grade added : ['F', 'A', 'B', 'C', 'D']\n",
            "THe garde list is updated : ['F', 'A', 'B', 'C', 'D']\n",
            "\n",
            "The clone list with F grade added : ['A', 'B', 'C', 'D', 'F']\n",
            "The grades list is not changed when changes in clone list occours :['F', 'A', 'B', 'C', 'D']\n",
            "\n",
            "The grade is updated through the shallow copy bcuz we made the list\n",
            "  \n",
            "by just assigning the original list to the new variable so when we change in the\n",
            "  \n",
            "shallow copy list there is the change in the original list .\n",
            "  \n",
            "And when we make the copy using the copy function it will depp copy it bcuz when\n",
            "  \n",
            "we chnage in the deep copy list the original list \n",
            "is not effected and remain same so it is the deep copy \n"
          ]
        }
      ]
    },
    {
      "cell_type": "markdown",
      "source": [
        "# **Task 9**"
      ],
      "metadata": {
        "id": "Uowx18mF2GFe"
      }
    },
    {
      "cell_type": "code",
      "source": [
        "times = [58.9, 61.2, 55.4, 59.7, 62.1, 56.8]\n",
        "times.sort(reverse=True)\n",
        "print(\"The descending order list : \",times)\n",
        "print(f\"The first slowest runner time are : {times[:3]}\")\n",
        "\n",
        "times.reverse()\n",
        "print(f\"\\nThe reverse order list : {times}\")\n",
        "print(f\"The TWo fastest runner time are : {times[:2]}\")\n",
        "\n",
        "print(f\"\\nThe time of fastest runner is {times[0]} \")\n",
        "\n",
        "print(f\"\\nThe time of slowest runner is {times[-1]} \")\n",
        "\n"
      ],
      "metadata": {
        "id": "Diea5TXHiuts",
        "colab": {
          "base_uri": "https://localhost:8080/"
        },
        "outputId": "b590709b-f3f6-4cee-a873-73b04d7db918"
      },
      "execution_count": null,
      "outputs": [
        {
          "output_type": "stream",
          "name": "stdout",
          "text": [
            "The descending order list :  [62.1, 61.2, 59.7, 58.9, 56.8, 55.4]\n",
            "The first slowest runner time are : [62.1, 61.2, 59.7]\n",
            "\n",
            "The reverse order list : [55.4, 56.8, 58.9, 59.7, 61.2, 62.1]\n",
            "The TWo fastest runner time are : [55.4, 56.8]\n",
            "\n",
            "The time of fastest runner is 55.4 \n",
            "\n",
            "The time of slowest runner is 62.1 \n"
          ]
        }
      ]
    },
    {
      "cell_type": "markdown",
      "source": [
        "# **Task 10**"
      ],
      "metadata": {
        "id": "WlPE6WKo4Z0Q"
      }
    },
    {
      "cell_type": "code",
      "source": [
        "vowels = [\"a\",\"e\",\"i\",\"o\"]\n",
        "print(\"The oroginal List is : \",vowels)\n",
        "print(id(vowels))\n",
        "\n",
        "vowels.append(\"u\")\n",
        "print(\"The modified List is : \",vowels)\n",
        "print(id(vowels))\n",
        "\n",
        "print(\"\\nThe same memory address proves the mutability of list after i change or add something in it \")"
      ],
      "metadata": {
        "colab": {
          "base_uri": "https://localhost:8080/"
        },
        "id": "R74md1_H3JDR",
        "outputId": "f33f9ab4-8287-491f-bcf6-16f8fbe267e7"
      },
      "execution_count": null,
      "outputs": [
        {
          "output_type": "stream",
          "name": "stdout",
          "text": [
            "The oroginal List is :  ['a', 'e', 'i', 'o']\n",
            "133520849568384\n",
            "The modified List is :  ['a', 'e', 'i', 'o', 'u']\n",
            "133520849568384\n",
            "\n",
            "The same memory address proves the mutability of list after i change or add something in it \n"
          ]
        }
      ]
    },
    {
      "cell_type": "markdown",
      "source": [
        "# **Task 11**"
      ],
      "metadata": {
        "id": "VToLtRs-55io"
      }
    },
    {
      "cell_type": "code",
      "source": [
        "nums = [-2, 0, 3, -5, 8, -1]\n",
        "\n",
        "\n",
        "has_positive = max(nums) > 0\n",
        "\n",
        "result = max(nums) if has_positive else min(nums)\n",
        "\n",
        "print(f\"Positive number exists: {has_positive}\")\n",
        "print(f\"Result the maximum value in the list is : {result}\")"
      ],
      "metadata": {
        "colab": {
          "base_uri": "https://localhost:8080/"
        },
        "id": "YVpPTZoG5Bxt",
        "outputId": "fe399bc3-65fc-4de7-f2b0-12e89bf83886"
      },
      "execution_count": null,
      "outputs": [
        {
          "output_type": "stream",
          "name": "stdout",
          "text": [
            "Positive number exists: True\n",
            "Result the maximum value in the list is : 8\n"
          ]
        }
      ]
    },
    {
      "cell_type": "markdown",
      "source": [
        "# **Task 12**"
      ],
      "metadata": {
        "id": "5ZC128qs8YZd"
      }
    },
    {
      "cell_type": "code",
      "source": [
        "\n",
        "data = (4, 8, 6, 10, 2)\n",
        "my_list = list(data)\n",
        "print(my_list)\n",
        "\n",
        "print(sum(my_list))\n",
        "\n",
        "if max(my_list) > 0:\n",
        "    print(\"All numbers greater than 0 : \",True)\n",
        "else:\n",
        "    print(\"All numbers greater than 0 : \",False)"
      ],
      "metadata": {
        "colab": {
          "base_uri": "https://localhost:8080/"
        },
        "id": "QRLLrJxO6WlE",
        "outputId": "76592916-50dd-40a6-adfe-a2c7f254d396"
      },
      "execution_count": null,
      "outputs": [
        {
          "output_type": "stream",
          "name": "stdout",
          "text": [
            "[4, 8, 6, 10, 2]\n",
            "30\n",
            "All numbers greater than 0 :  True\n"
          ]
        }
      ]
    },
    {
      "cell_type": "code",
      "source": [
        "my_list = [1,2,3,4,5,6,7]\n",
        "# my_list.pop(3)\n",
        "# my_list.remove(5)\n",
        "del my_list[2]\n",
        "print(my_list)"
      ],
      "metadata": {
        "id": "QQcmO-8x8mOi",
        "colab": {
          "base_uri": "https://localhost:8080/"
        },
        "outputId": "bcf9a1e9-4d1a-4867-dba0-c00f86bc034f"
      },
      "execution_count": null,
      "outputs": [
        {
          "output_type": "stream",
          "name": "stdout",
          "text": [
            "[1, 2, 4, 5, 6, 7]\n"
          ]
        }
      ]
    },
    {
      "cell_type": "code",
      "source": [
        "hi_list = [\"1234567890\"]\n",
        "hi_list[0][0::2]"
      ],
      "metadata": {
        "colab": {
          "base_uri": "https://localhost:8080/",
          "height": 35
        },
        "id": "0xWEe0zkLJ9W",
        "outputId": "9a64d13d-6167-4e0c-d284-f956b1a91df3"
      },
      "execution_count": null,
      "outputs": [
        {
          "output_type": "execute_result",
          "data": {
            "text/plain": [
              "'13579'"
            ],
            "application/vnd.google.colaboratory.intrinsic+json": {
              "type": "string"
            }
          },
          "metadata": {},
          "execution_count": 14
        }
      ]
    },
    {
      "cell_type": "code",
      "source": [
        "names= [\"ali\",\"Khurram\",\"amina\",\"Ifra\"]\n",
        "\n",
        "if len(names[0]) >= 4 and names[0][0].isupper():\n",
        "    print(names[0])\n",
        "if len(names[1]) >= 4 and names[1][0].isupper():\n",
        "    print(names[1])\n",
        "if len(names[2]) >= 4 and names[2][0].isupper():\n",
        "    print(names[2])\n",
        "if len (names [3]) > 4 and names [3][0].isupper():\n",
        "    print(names[3])"
      ],
      "metadata": {
        "colab": {
          "base_uri": "https://localhost:8080/"
        },
        "id": "XpcF9GhaNaEr",
        "outputId": "8cc39645-f67a-4d55-ab55-ae43f00a59b0"
      },
      "execution_count": null,
      "outputs": [
        {
          "output_type": "stream",
          "name": "stdout",
          "text": [
            "Khurram\n"
          ]
        }
      ]
    },
    {
      "cell_type": "code",
      "source": [
        "user = input(\"Enter a name : \")\n",
        "\n",
        "if user[0].islower():\n",
        "  user[0].upper()\n",
        "  print(user)\n",
        "else:\n",
        "    print(user[::-1])"
      ],
      "metadata": {
        "colab": {
          "base_uri": "https://localhost:8080/"
        },
        "id": "vjzsU6_oRp-f",
        "outputId": "26d50291-8e6c-4789-d9b1-89a6c5326c6a"
      },
      "execution_count": null,
      "outputs": [
        {
          "output_type": "stream",
          "name": "stdout",
          "text": [
            "Enter a name : Khurram\n",
            "marruhK\n"
          ]
        }
      ]
    },
    {
      "cell_type": "code",
      "source": [],
      "metadata": {
        "id": "exMCIiMRUhh7"
      },
      "execution_count": null,
      "outputs": []
    }
  ]
}