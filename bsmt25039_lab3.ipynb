{
  "nbformat": 4,
  "nbformat_minor": 0,
  "metadata": {
    "colab": {
      "provenance": [],
      "include_colab_link": true
    },
    "kernelspec": {
      "name": "python3",
      "display_name": "Python 3"
    },
    "language_info": {
      "name": "python"
    }
  },
  "cells": [
    {
      "cell_type": "markdown",
      "metadata": {
        "id": "view-in-github",
        "colab_type": "text"
      },
      "source": [
        "<a href=\"https://colab.research.google.com/github/KhurramDevOps/Python_Learning/blob/master/bsmt25039_lab3.ipynb\" target=\"_parent\"><img src=\"https://colab.research.google.com/assets/colab-badge.svg\" alt=\"Open In Colab\"/></a>"
      ]
    },
    {
      "cell_type": "markdown",
      "source": [
        "# **Task 1**"
      ],
      "metadata": {
        "id": "_2WeZ5-i7yBX"
      }
    },
    {
      "cell_type": "code",
      "execution_count": null,
      "metadata": {
        "colab": {
          "base_uri": "https://localhost:8080/"
        },
        "id": "TJmSiSBm7j29",
        "outputId": "9efe7914-4902-4107-eb89-981ba9160516"
      },
      "outputs": [
        {
          "output_type": "stream",
          "name": "stdout",
          "text": [
            "Enter 1st number: 3\n",
            "\n",
            "Enter 2nd number: 9\n",
            "132925927841552\n",
            "<class 'float'>\n",
            "0.3333333333333333\n"
          ]
        }
      ],
      "source": [
        "num_1 = float(input(\"Enter 1st number: \"))\n",
        "num_2 = float(input(\"\\nEnter 2nd number: \"))\n",
        "\n",
        "division_result = num_1 / num_2\n",
        "\n",
        "print(id(division_result))\n",
        "print(type(division_result))\n",
        "print(division_result)"
      ]
    },
    {
      "cell_type": "markdown",
      "source": [
        "# **Task 2**"
      ],
      "metadata": {
        "id": "NJ3ZWDGt8peO"
      }
    },
    {
      "cell_type": "code",
      "source": [
        "user_name = input(\"Enter your name: \")\n",
        "user_age = int(input(\"enter your age : \"))\n",
        "check_equality = type(user_name) == type(user_age)\n",
        "print(check_equality)"
      ],
      "metadata": {
        "colab": {
          "base_uri": "https://localhost:8080/"
        },
        "id": "9OPfiWUz8r51",
        "outputId": "e11ce39d-b74f-43ff-f614-a2909caa7d10"
      },
      "execution_count": null,
      "outputs": [
        {
          "output_type": "stream",
          "name": "stdout",
          "text": [
            "Enter your name: khurram\n",
            "enter your age : 19\n",
            "False\n"
          ]
        }
      ]
    },
    {
      "cell_type": "markdown",
      "source": [
        "# **Task 3**"
      ],
      "metadata": {
        "id": "GYaplbqa9kr2"
      }
    },
    {
      "cell_type": "code",
      "source": [
        "string_1 = input(\"Enter 1st string: \")\n",
        "string_2 = input(\"Enter 2nd string: \")\n",
        "\n",
        "show_isnot = string_1 is not string_2\n",
        "print(show_isnot)\n"
      ],
      "metadata": {
        "colab": {
          "base_uri": "https://localhost:8080/"
        },
        "id": "bn2PopOU9qi8",
        "outputId": "e0ef4946-8e13-4c3d-e85d-b2e13c334ed9"
      },
      "execution_count": null,
      "outputs": [
        {
          "output_type": "stream",
          "name": "stdout",
          "text": [
            "Enter 1st string: hi\n",
            "Enter 2nd string: bye\n",
            "True\n"
          ]
        }
      ]
    },
    {
      "cell_type": "markdown",
      "source": [
        "# **Task 4**"
      ],
      "metadata": {
        "id": "BGxBwvTB-V7f"
      }
    },
    {
      "cell_type": "code",
      "source": [
        "str_1 = input(\"Enter string 1 : \")\n",
        "str_2 = input(\"Enter string 2  : \")\n",
        "str_3 = input(\"Enter string 3 : \")\n",
        "\n",
        "final_string = str_1 + \" \" + str_2 + \" \" + str_3\n",
        "# print(final_string)\n",
        "\n",
        "print(len(final_string))\n",
        "print(final_string.upper())\n",
        "\n",
        "print(final_string.lower())"
      ],
      "metadata": {
        "colab": {
          "base_uri": "https://localhost:8080/"
        },
        "id": "T9WcsfN2-X-0",
        "outputId": "21f05ae6-2d3a-4297-92b4-e07df59bc4d7"
      },
      "execution_count": null,
      "outputs": [
        {
          "output_type": "stream",
          "name": "stdout",
          "text": [
            "Enter string 1 : My name is \n",
            "Enter string 2  : Khurram\n",
            "Enter string 3 : Shahzad\n",
            "27\n",
            "MY NAME IS  KHURRAM SHAHZAD\n",
            "my name is  khurram shahzad\n"
          ]
        }
      ]
    },
    {
      "cell_type": "markdown",
      "source": [
        "# ***Task 5***"
      ],
      "metadata": {
        "id": "Ygb5UnT1Dnwx"
      }
    },
    {
      "cell_type": "code",
      "source": [
        "import math\n",
        "user_input = input(\"Enter a number : \")\n",
        "number = int(user_input)\n",
        "square_root= math.sqrt(number)\n",
        "print(f\"The square root of the given number is : {square_root:.2f}\")\n",
        "#"
      ],
      "metadata": {
        "colab": {
          "base_uri": "https://localhost:8080/"
        },
        "id": "UEg9LuRFCmoA",
        "outputId": "69d667aa-3e78-4d65-b55b-cd92c7bd6f06"
      },
      "execution_count": null,
      "outputs": [
        {
          "output_type": "stream",
          "name": "stdout",
          "text": [
            "Enter a number : 39\n",
            "The square root of the given number is : 6.24\n"
          ]
        }
      ]
    },
    {
      "cell_type": "markdown",
      "source": [
        "# **Task 6**"
      ],
      "metadata": {
        "id": "KJ7w9N0UGRjh"
      }
    },
    {
      "cell_type": "code",
      "source": [
        "x = None\n",
        "print(type(x))\n",
        "compare = x  is None\n",
        "print(compare)\n"
      ],
      "metadata": {
        "colab": {
          "base_uri": "https://localhost:8080/"
        },
        "id": "l3Pbw8ulFpYQ",
        "outputId": "3a69fe57-f813-440d-88b8-3a82a6486722"
      },
      "execution_count": null,
      "outputs": [
        {
          "output_type": "stream",
          "name": "stdout",
          "text": [
            "<class 'NoneType'>\n",
            "True\n"
          ]
        }
      ]
    },
    {
      "cell_type": "markdown",
      "source": [
        "# **Task 7**"
      ],
      "metadata": {
        "id": "-VbWsPaHG9jf"
      }
    },
    {
      "cell_type": "code",
      "source": [
        "x = 3\n",
        "print(id(x))\n",
        "x = 9\n",
        "print(id(x))\n",
        "\n",
        "print(id(x) is id(x))\n",
        "\n",
        "print( id(x) is not id(x) )\n",
        "\n",
        "# so the int x is immutable cuz the data is not updated and the memory address is changed of both var"
      ],
      "metadata": {
        "colab": {
          "base_uri": "https://localhost:8080/"
        },
        "id": "spZw6prDGj8R",
        "outputId": "1a2354db-2481-4554-b2af-b26122d8e664"
      },
      "execution_count": null,
      "outputs": [
        {
          "output_type": "stream",
          "name": "stdout",
          "text": [
            "11642152\n",
            "11642344\n",
            "False\n",
            "True\n"
          ]
        }
      ]
    },
    {
      "cell_type": "markdown",
      "source": [
        "# **Task 8**"
      ],
      "metadata": {
        "id": "JXewnXvvIzCK"
      }
    },
    {
      "cell_type": "code",
      "source": [
        "str1 = input(\"Enter your first name : \")\n",
        "\n",
        "final_name = str1  + \" \" + \"Shahzad\"\n",
        "\n",
        "print(id(str1))\n",
        "print(id(final_name))\n",
        "\n",
        "print(id(str1) is id(final_name))\n",
        "print(id(str1) is not id(final_name))\n",
        "\n",
        "# so thats mean string is immutable"
      ],
      "metadata": {
        "colab": {
          "base_uri": "https://localhost:8080/"
        },
        "id": "aIBdV7wEH5th",
        "outputId": "b7b7fdf8-fa7f-41b2-c3bb-e38c1257a37a"
      },
      "execution_count": null,
      "outputs": [
        {
          "output_type": "stream",
          "name": "stdout",
          "text": [
            "Enter your first name : khurram\n",
            "132925370460288\n",
            "132925373523184\n",
            "False\n",
            "True\n"
          ]
        }
      ]
    },
    {
      "cell_type": "markdown",
      "source": [
        "# **Task 9**"
      ],
      "metadata": {
        "id": "Wyn5-kYmK2oU"
      }
    },
    {
      "cell_type": "code",
      "source": [
        "value = \"python\"\n",
        "print(value.replace(\"p\",\"j\"))\n",
        "\n",
        "# So the var value store the Python we want to update the p with j\n",
        "# we use the replace function of string and replace the p we open the\n",
        "# parantheesis and write (\"p\") whixh we want to update or change then\n",
        "# we use comma after that (\"p\",\"j\") and we write the alphabet that we want\n",
        "# instead of P so the answer is \"jython\""
      ],
      "metadata": {
        "colab": {
          "base_uri": "https://localhost:8080/"
        },
        "id": "I0JjuMNZK5pC",
        "outputId": "d8fa7505-7e22-406b-9a61-d1e65bacfdd7"
      },
      "execution_count": null,
      "outputs": [
        {
          "output_type": "stream",
          "name": "stdout",
          "text": [
            "jython\n"
          ]
        }
      ]
    },
    {
      "cell_type": "markdown",
      "source": [
        "# ***LAB 3 is Completed***"
      ],
      "metadata": {
        "id": "kDRIvBqkZcfD"
      }
    },
    {
      "cell_type": "code",
      "source": [],
      "metadata": {
        "id": "pKykO1pETWbf"
      },
      "execution_count": null,
      "outputs": []
    }
  ]
}